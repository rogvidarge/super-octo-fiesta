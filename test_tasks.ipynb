{
  "cells": [
    {
      "cell_type": "markdown",
      "metadata": {
        "colab_type": "text",
        "id": "view-in-github"
      },
      "source": [
        "<a href=\"https://colab.research.google.com/github/rogvidarge/super-octo-fiesta/blob/main/test_tasks.ipynb\" target=\"_parent\"><img src=\"https://colab.research.google.com/assets/colab-badge.svg\" alt=\"Open In Colab\"/></a>"
      ]
    },
    {
      "cell_type": "markdown",
      "metadata": {
        "id": "I3pd0upG-Tjp"
      },
      "source": [
        "# Flowtale Test Tasks"
      ]
    },
    {
      "cell_type": "markdown",
      "metadata": {
        "id": "TGjX1_mkNu9T"
      },
      "source": [
        "## Debugging Tasks"
      ]
    },
    {
      "cell_type": "code",
      "execution_count": null,
      "metadata": {
        "id": "M1vJA4rn9xW5"
      },
      "outputs": [],
      "source": [
        "list_of_nums = [1, 2, 3, 4\n",
        "for i in list_of_nums\n",
        "  print(j)\n",
        "\n",
        "# Expected output:\n",
        "# 1\n",
        "# 2\n",
        "# 3\n",
        "# 4"
      ]
    },
    {
      "cell_type": "code",
      "execution_count": null,
      "metadata": {
        "id": "kOKD5x4UA1Ub"
      },
      "outputs": [],
      "source": [
        "def number_is_even(number):\n",
        "  if number % 2 != 0:\n",
        "    print(\"This number is even\")\n",
        "\n",
        "number_is_even(10)\n",
        "\n",
        "# Expected output: This number is even"
      ]
    },
    {
      "cell_type": "code",
      "execution_count": null,
      "metadata": {
        "id": "2ltGMw-B-psQ"
      },
      "outputs": [],
      "source": [
        "def factorial(n):\n",
        "    result = 1\n",
        "    for i in range(2, n):\n",
        "        result *= i\n",
        "    return result\n",
        "\n",
        "print(factorial(5))\n",
        "# Expected output: 120"
      ]
    },
    {
      "cell_type": "code",
      "execution_count": null,
      "metadata": {
        "id": "VbkfhzRJeUio"
      },
      "outputs": [],
      "source": [
        "import pandas as pd\n",
        "pd_dict = [{'Name': 'Adam', 'Age': 10, 'Height': 140},\n",
        "           {'Name': 'Bob', 'Age': 12, 'Height': 120},\n",
        "           {'Name': 'Clarke', 'Age': 13, 'Height': 130}]\n",
        "df = pandas.DataFrame(pd_dict)\n",
        "print(mean(df['Age']))\n",
        "\n",
        "# Expected output: 11.6"
      ]
    },
    {
      "cell_type": "code",
      "execution_count": null,
      "metadata": {
        "id": "576mD_wtfaEV"
      },
      "outputs": [],
      "source": [
        "import pandas as pd\n",
        "pd_dict = [{'Name': 'Adam', 'Age': \"10\", 'Height': 140},\n",
        "           {'Name': 'Bob', 'Age': \"12\", 'Height': 120},\n",
        "           {'Name': 'Clarke', 'Age': \"13\", 'Height': 130}]\n",
        "df = pandas.DataFrame(pd_dict)\n",
        "\n",
        "# ?\n",
        "df['Age'].mean()\n",
        "\n",
        "# Expected output: 11.6"
      ]
    },
    {
      "cell_type": "markdown",
      "metadata": {
        "id": "zAnz-qgiOEdO"
      },
      "source": [
        "## Algorithmic Challenge"
      ]
    },
    {
      "cell_type": "code",
      "execution_count": null,
      "metadata": {
        "id": "1EKG6ncgOIPn"
      },
      "outputs": [],
      "source": [
        "# Task: Calculate the nth Fibonacci number\n",
        "# The Fibonacci sequence is a series where the next term is the sum of the previous two terms.\n",
        "# The first two terms of the Fibonacci sequence are 0 and 1.\n",
        "\n",
        "def fibonacci(n: int) -> int:\n",
        "    ...\n",
        "\n",
        "# Test the function\n",
        "for n in [0, 1, 10]:\n",
        "    print(f\"The {n}th Fibonacci number is: {fibonacci(n)}\")\n",
        "\n",
        "# Example, find the 0th Fibonacci number, which should be 0\n",
        "# Example, find the 1st Fibonacci number, which should be 1\n",
        "# Example, find the 10th Fibonacci number, which should be 55"
      ]
    }
  ],
  "metadata": {
    "colab": {
      "include_colab_link": true,
      "provenance": []
    },
    "kernelspec": {
      "display_name": "Python 3",
      "name": "python3"
    },
    "language_info": {
      "name": "python"
    }
  },
  "nbformat": 4,
  "nbformat_minor": 0
}
