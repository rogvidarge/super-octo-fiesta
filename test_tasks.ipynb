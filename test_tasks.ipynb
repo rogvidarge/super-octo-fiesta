{
  "nbformat": 4,
  "nbformat_minor": 0,
  "metadata": {
    "colab": {
      "provenance": [],
      "include_colab_link": true
    },
    "kernelspec": {
      "name": "python3",
      "display_name": "Python 3"
    },
    "language_info": {
      "name": "python"
    }
  },
  "cells": [
    {
      "cell_type": "markdown",
      "metadata": {
        "id": "view-in-github",
        "colab_type": "text"
      },
      "source": [
        "<a href=\"https://colab.research.google.com/github/rogvidarge/super-octo-fiesta/blob/main/test_tasks.ipynb\" target=\"_parent\"><img src=\"https://colab.research.google.com/assets/colab-badge.svg\" alt=\"Open In Colab\"/></a>"
      ]
    },
    {
      "cell_type": "markdown",
      "source": [
        "# Flowtale Test Tasks"
      ],
      "metadata": {
        "id": "I3pd0upG-Tjp"
      }
    },
    {
      "cell_type": "markdown",
      "source": [
        "## Debugging Tasks"
      ],
      "metadata": {
        "id": "TGjX1_mkNu9T"
      }
    },
    {
      "cell_type": "code",
      "execution_count": null,
      "metadata": {
        "id": "M1vJA4rn9xW5"
      },
      "outputs": [],
      "source": [
        "# Syntax errors:\n",
        "list_of_nums = [1, 2, 3, 4\n",
        "for i in list_of_nums\n",
        "  print(j)\n",
        "\n",
        "# Expected output:\n",
        "# 1\n",
        "# 2\n",
        "# 3\n",
        "# 4"
      ]
    },
    {
      "cell_type": "code",
      "source": [
        "# Logic errors\n",
        "def number_is_even(number):\n",
        "  if number % 2 != 0:\n",
        "    print(\"This number is even\")\n",
        "\n",
        "number_is_even(10)\n",
        "\n",
        "# Expected output: \"This number is even\""
      ],
      "metadata": {
        "id": "kOKD5x4UA1Ub"
      },
      "execution_count": null,
      "outputs": []
    },
    {
      "cell_type": "code",
      "source": [
        "# Indexing mistakes\n",
        "def factorial(n):\n",
        "    result = 1\n",
        "    for i in range(2, n):\n",
        "        result *= i\n",
        "    return result\n",
        "\n",
        "print(factorial(5))\n",
        "\n",
        "# Expected output: 120\n",
        "# Hint: 4! = 24"
      ],
      "metadata": {
        "id": "2ltGMw-B-psQ"
      },
      "execution_count": null,
      "outputs": []
    },
    {
      "cell_type": "code",
      "source": [
        "# Programatical errors:\n",
        "import pandas as pd\n",
        "pd_dict = [{'Name': 'Adam', 'Age': 10, 'Height': 140},\n",
        "           {'Name': 'Bob', 'Age': 12, 'Height': 120},\n",
        "           {'Name': 'Clarke', 'Age': 13, 'Height': 130}]\n",
        "df = pandas.DataFrame(pd_dict)\n",
        "print(mean(df['Age']))\n",
        "\n",
        "# Expected output: 11.6"
      ],
      "metadata": {
        "id": "VbkfhzRJeUio"
      },
      "execution_count": null,
      "outputs": []
    },
    {
      "cell_type": "code",
      "source": [
        "# Type errors:\n",
        "import pandas as pd\n",
        "pd_dict = [{'Name': 'Adam', 'Age': \"10\", 'Height': 140},\n",
        "           {'Name': 'Bob', 'Age': \"12\", 'Height': 120},\n",
        "           {'Name': 'Clarke', 'Age': \"13\", 'Height': 130}]\n",
        "df = pd.DataFrame(pd_dict)\n",
        "# ?\n",
        "df['Age'].mean()\n",
        "\n",
        "# Expected output: 11.6"
      ],
      "metadata": {
        "id": "576mD_wtfaEV"
      },
      "execution_count": null,
      "outputs": []
    },
    {
      "cell_type": "markdown",
      "source": [
        "## Algorithmic Challenge"
      ],
      "metadata": {
        "id": "zAnz-qgiOEdO"
      }
    },
    {
      "cell_type": "code",
      "source": [
        "# Task: Calculate the nth Fibonacci number\n",
        "# The Fibonacci sequence is a series where the next term is the sum of the previous two terms.\n",
        "# The first two terms of the Fibonacci sequence are 0 and 1.\n",
        "\n",
        "def fibonacci(n: int) -> int:\n",
        "    ...\n",
        "\n",
        "# Test the function\n",
        "n = 10  # Example, find the 10th Fibonacci number, which should be 55\n",
        "print(f\"The {n}th Fibonacci number is: {fibonacci(n)}\")"
      ],
      "metadata": {
        "id": "1EKG6ncgOIPn"
      },
      "execution_count": null,
      "outputs": []
    },
    {
      "cell_type": "code",
      "source": [],
      "metadata": {
        "id": "mC57ra7YQE8i"
      },
      "execution_count": null,
      "outputs": []
    }
  ]
}